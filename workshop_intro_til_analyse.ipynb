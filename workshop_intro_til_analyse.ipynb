{
  "nbformat": 4,
  "nbformat_minor": 0,
  "metadata": {
    "colab": {
      "provenance": [],
      "collapsed_sections": [],
      "toc_visible": true
    },
    "kernelspec": {
      "name": "python3",
      "display_name": "Python 3"
    },
    "language_info": {
      "name": "python"
    }
  },
  "cells": [
    {
      "cell_type": "markdown",
      "source": [
        "# **Workshop: Introduksjon til analyse, visualisering og modellering**\n",
        "\n",
        "**Du vil lære:**\n",
        "- Helt overordnet hva data og analyse er, hva det innebærer og hvordan det utføres i praksis\n",
        "- Å hente ut og jobbe med data fra Google BigQuery\n",
        "- Hvordan gå frem for å utforske og tolke et nytt datasett og et nytt forretningsdomene\n",
        "- Enkel modellering og visualisering\n",
        "\n",
        "**Du vil _ikke_ lære:**\n",
        "- Avansert maskinlæringsmodellering\n",
        "- Spesifikke detaljer om verktøy som Pandas, Matplotlib, Keras, Tensorflow og liknende\n",
        "- Hvordan benytte modeller og analyse i et integrert, kjørende system\n",
        "- Hvordan løse domenespesifikke og vanskelige problem på en enkel og generisk måte\n",
        "\n",
        "## Introduksjon\n",
        "Analyse, modellering og maskinlæring er store temaer som ikke kan dekkes hverken overfladisk eller dypt i én enkelt workshop. Likevel skal vi gjøre et forsøk på å introdusere noen sentrale elementer, samt få litt hands-on erfaring med et utvalgt datasett. Dataen vi skal se på stammer fra Oslo Bysykkel, og inneholder informasjon om turer fra April 2019 til April 2022. I tillegg er værdata introdusert som en potensielt interessant ytre faktor."
      ],
      "metadata": {
        "id": "idkQwqn4dvml"
      }
    },
    {
      "cell_type": "markdown",
      "source": [
        "# **Bolk 1: Laste data fra BigQuery**\n",
        "Før vi kan begynne med analyse må vi være i stand til å laste inn dataen i vårt foretrukne verktøy. For data lagret i moderne skytjenester, som f.eks Google BigQuery, har vi verktøy som gjør uthenting enklere. Med disse verktøyene kan vi importere data direkte i vårt _Python_-script. I oppgavene under benytter vi et Python-bibliotek fra Google for å integrere med BigQuery."
      ],
      "metadata": {
        "id": "4fW8d4ALY1KS"
      }
    },
    {
      "cell_type": "markdown",
      "source": [
        "## **Oppgave 1.1: Autentisering mot Google**\n",
        "Før vi kan laste data fra Google sine tjenester er vi nødt til å autentisere vår Colab Notebook til å ha de riktige rettighetene. Kjør kodesnutten nedenfor og gjennomfør autentiseringen. \n",
        "\n",
        "> **NB: Husk å velge riktig Google-konto i nettleserfanen din, dvs. den som har tilgang til BigQuery-tabellen som skal benyttes**"
      ],
      "metadata": {
        "id": "Y85o1mZ1Vd1p"
      }
    },
    {
      "cell_type": "code",
      "source": [
        "\n",
        "\n",
        "# Autentisering mot Google, slik at dette Colab-dokumentet\n",
        "# har tilgang til andre Google-tjenester knyttet til din konto\n",
        "# f.eks BigQuery-tabeller, Storage buckets osv.\n",
        "from google.colab import auth\n",
        "auth.authenticate_user()"
      ],
      "metadata": {
        "id": "ngu8MldARgg-"
      },
      "execution_count": null,
      "outputs": []
    },
    {
      "cell_type": "markdown",
      "source": [
        "## **Oppgave 1.2: Uthenting av data fra BigQuery**\n",
        "Nedenfor finner du en hjelpemetode for å laste data fra Google BigQuery, som deretter kalles og instansierer en Pandas DataFrame _df_. Last inn dataen ved å kjøre kodeblokken. Lastingen er vellykket dersom blokka printer ut fem velformaterte linjer med data.\n",
        "\n",
        "> **NB: Vi skal laste en del data, så det kan ta alt fra 10 sekunder til et minutt å kjøre metoden under**"
      ],
      "metadata": {
        "id": "HCFGaK-GRh7R"
      }
    },
    {
      "cell_type": "code",
      "source": [
        "# Eksterne avhengigheter\n",
        "from google.cloud import bigquery_storage\n",
        "from google.cloud.bigquery_storage import types\n",
        "from google.cloud.bigquery_storage_v1 import enums\n",
        "import pandas\n",
        "\n",
        "#  params:\n",
        "#   project_id: String\n",
        "#   dataset_id: String\n",
        "#     table_id: String\n",
        "# \n",
        "#  return:\n",
        "#           df: Pandas DataFrame\n",
        "#\n",
        "def load_bigquery_data(project_id, dataset_id, table_id):\n",
        "    # Parse input-verdier til forventet filsti på Google BigQuery\n",
        "    table = f\"projects/{project_id}/datasets/{dataset_id}/tables/{table_id}\"\n",
        "    parent = \"projects/{}\".format(project_id)\n",
        "\n",
        "    # Instansier klient for enkel integrasjon mot BigQuery\n",
        "    bqstorageclient = bigquery_storage.BigQueryReadClient()\n",
        "\n",
        "    # Opprett en read-session mot en tabell i BigQuery\n",
        "    requested_session = types.ReadSession(\n",
        "        table=table,\n",
        "        data_format = enums.DataFormat.ARROW\n",
        "    )\n",
        "    read_session = bqstorageclient.create_read_session(\n",
        "        parent=parent,\n",
        "        read_session=requested_session,\n",
        "        max_stream_count=1,\n",
        "    )\n",
        "\n",
        "    # Les data fra BigQuery, putt i en liste med dataframes\n",
        "    stream = read_session.streams[0]\n",
        "    readRowsStream = bqstorageclient.read_rows(stream.name)\n",
        "    dfs = []\n",
        "    for page in readRowsStream.rows(read_session).pages:\n",
        "        dfs.append(page.to_dataframe())\n",
        "\n",
        "    # Sett flere dataframes sammen til én\n",
        "    df = pandas.concat(dfs)\n",
        "\n",
        "    return df\n",
        "\n",
        "df = load_bigquery_data(\"data-intro\", \"bysykkel_main\", \"bysykkel_med_værdata\")\n",
        "df[\"weekday\"] = df[\"started_at\"].dt.day_name() # Vi introduserer en ny kolonne, ikke noe å bry seg om ;)\n",
        "df.head()"
      ],
      "metadata": {
        "id": "bngUM2HfQHK9"
      },
      "execution_count": null,
      "outputs": []
    },
    {
      "cell_type": "markdown",
      "source": [
        "Ved analyse av data i Python bruker man gjerne et bibliotek som heter *Pandas*. Data i Pandas representeres med en *DataFrame*, ofte forkortet og instansiert som bare *df*. Dataen vi får lastet inn med bigquery_storage-klienten i kodesnutten nedenfor er på et eget Google-format *ReadRowsStream*, som tilbyr en *to_dataframe()*-metode. Denne metoden gir oss en Pandas DataFrame."
      ],
      "metadata": {
        "id": "DM732HBO2XU2"
      }
    },
    {
      "cell_type": "markdown",
      "source": [
        "# **Bolk 2: Innledende utforskning**\n",
        "I innledende fase av et data- og analyseprosjekt er det essensielt å forstå hva forretningsbehovet er, og hva datagrunnlaget inneholder. Allerede da vil en kunne besvare noen sentrale spørsmål innen analyse:\n",
        "- Er datagrunnlaget tilstrekkelig for å gjøre de analysene vi ønsker?\n",
        "- Er det vesentlige mangler eller rariteter i datagrunnlaget?\n",
        "- Hva vi tilstrekkelig forståelse av hvor dataen kommer fra, hvilke enheter og betydning hver kolonne har, og sammenhengen mellom kolonnene?\n",
        "- Hvilke transformasjoner kan være nyttige å gjøre? Hvilke nye, utledede kolonner kan være nyttige å introdusere?\n",
        "- Hvilke visualiserings- og modelleringsteknikker kan være aktuelle?\n",
        "\n",
        "Vi skal forsøke oss på å finne ut av og gjøre _noen_ av disse tingene. I tillegg skal vi lære litt Pandas-spesifikke kommandoer."
      ],
      "metadata": {
        "id": "AZpKUWrKR_i0"
      }
    },
    {
      "cell_type": "markdown",
      "source": [
        "## **Oppgave 2.1: Innebygde df-kommandoer**\n",
        "På en DataFrame-instans _df_ har vi en rekke nyttige metode og felter, f.eks:\n",
        "\n",
        "```python\n",
        "df.shape      # Dimensjon\n",
        "df.info()     # Oppsummering av størrelse og innhold\n",
        "df.describe() # Grunnleggende statistiske egenskaper\n",
        "df.head()     # Lister de første radene i datasettet\n",
        "df.tail()     # Lister de siste radene i datasettet\n",
        "```\n",
        "\n",
        "Bruk kommandoene over til å utforske datasettet du har lastet inn i forrige oppgave\n",
        "\n",
        "a) Hvor mange rader og hvor mange kolonner inneholder datasettet?\n",
        "\n",
        "b) Hva tror du enhet for kolonnene \"duration\", \"mean_temperature\" og \"precipitation_amount\" er?\n",
        "\n",
        "c) Hva er gjennomsnittlig varighet på en bysykkeltur?"
      ],
      "metadata": {
        "id": "aGLzxn3LVhcd"
      }
    },
    {
      "cell_type": "code",
      "source": [
        "# TODO\n",
        "# Din kode her"
      ],
      "metadata": {
        "id": "uE5nDTzUTda5"
      },
      "execution_count": null,
      "outputs": []
    },
    {
      "cell_type": "code",
      "source": [
        "# TODO\n",
        "# Dine svar her\n",
        "\"\"\"\n",
        "Svar A:\n",
        "Svar B:\n",
        "Svar C:\n",
        "\"\"\""
      ],
      "metadata": {
        "id": "ANWaVlyPPJES"
      },
      "execution_count": null,
      "outputs": []
    },
    {
      "cell_type": "code",
      "source": [
        "#@title Løsning Oppgave 2.1\n",
        "\n",
        "\"\"\"\n",
        "Svar A: Bruk df.shape eller df.info() - 5715392 rader, 16 kolonner\n",
        "Svar B: varighet (s), temperatur (C), nedbør (mm)\n",
        "Svar C: Bruk df.describe() - 781.3112 sekunder\n",
        "\"\"\""
      ],
      "metadata": {
        "id": "WpAgwfZ5MwdB",
        "cellView": "form"
      },
      "execution_count": null,
      "outputs": []
    },
    {
      "cell_type": "markdown",
      "source": [
        "## **Oppgave 2.2: Filtrering og transformasjon**\n",
        "Vi kan utføre en rekke operasjoner på en DataFrame, bl.a. filtere, transformere, fjerne, legge til, plotte, og mye mer. Videre følger noen eksempler som er relevante for akkurat denne workshopen.\n",
        "\n",
        "**Filtrere basert på kolonneverdier**:\n",
        "```python\n",
        "df[\n",
        "  (df[\"x\"] > a & df[\"y\"] < b) |\n",
        "  df[\"z\"] > c\n",
        "]\n",
        "```\n",
        "\n",
        "**Gruppere data på kolonnerverdi**:\n",
        "```python\n",
        "df.groupby(\n",
        "  df[\"nrOfApartments\"]\n",
        ")\n",
        "```\n",
        "\n",
        "Vi kan finne størrelsen på hver gruppe med bruk av _.size()_-funksjonen:\n",
        "```python\n",
        "df.groupby(\n",
        "  df[\"nrOfApartments\"]\n",
        ").size()\n",
        "```"
      ],
      "metadata": {
        "id": "hr76G1lgAMW8"
      }
    },
    {
      "cell_type": "markdown",
      "source": [
        "Bruk kommandoene over til å svare på følgende:\n",
        "\n",
        "a) Hvor mange turer ble gjennomført i hele 2021?\n",
        "\n",
        "b) Hvor mange unike holdeplasser er det?"
      ],
      "metadata": {
        "id": "Ozu2ZNDKC0il"
      }
    },
    {
      "cell_type": "code",
      "source": [
        "# TODO\n",
        "# Din kode her"
      ],
      "metadata": {
        "id": "PNXCiZXVDZJx"
      },
      "execution_count": null,
      "outputs": []
    },
    {
      "cell_type": "code",
      "source": [
        "# TODO\n",
        "# Dine svar her\n",
        "\"\"\"\n",
        "Svar A:\n",
        "Svar B:\n",
        "\"\"\""
      ],
      "metadata": {
        "id": "_uJxQW1xDZJ5"
      },
      "execution_count": null,
      "outputs": []
    },
    {
      "cell_type": "code",
      "source": [
        "#@title Løsning Oppgave 2.2\n",
        "\n",
        "# A)\n",
        "df[(df[\"started_at\"] > '2020-12-31') & (df[\"ended_at\"] < '2022-01-01')].shape\n",
        "\n",
        "# B)\n",
        "df.groupby(df[\"start_station_id\"]).size()\n",
        "\n",
        "\"\"\"\n",
        "Svar A: 1420010\n",
        "Svar B: 275\n",
        "\"\"\""
      ],
      "metadata": {
        "id": "O9kKryH5DZJ5",
        "cellView": "form"
      },
      "execution_count": null,
      "outputs": []
    },
    {
      "cell_type": "markdown",
      "source": [
        "## **Oppgave 2.3: Visualisering**\n",
        "For visualisering av data er det vanlig å bruke et bibliotek som heter Matplotlib. I denne workshoppen klarer vi oss med å benytte Pandas sin _plot_-funksjon (som også benytter Matplotlib).\n",
        "\n",
        "Hvilke type plott en bør velge avhenger av hva en ønsker å visualisere. Noen eksempler:\n",
        "- **bar** (sammenlikne grupperte verdier, f.eks antall sykkelturer per år)\n",
        "- **pie** (samme som over, men med en litt annen visualisering)\n",
        "- **scatter** (sammenlikne to ulike kolonneverdier, f.eks sammenhengen mellom temperatur og nedbør)\n",
        "- ... og flere andre som vi ikke går inn på nå\n",
        "\n",
        "Argumentet _figsize_ kan settes for å endre størrelse på visualiseringen\n",
        "\n",
        "**Bar-plot:**\n",
        "```python\n",
        "df.groupby(\n",
        "  df[\"some_column\"]\n",
        ").size().plot(kind=\"bar\", figsize=(20, 6))\n",
        "```\n",
        "Erstatt _\"bar\"_ med _\"pie\"_ for tilsvarende pie-plot\n",
        "\n",
        "**Scatter-plot:**\n",
        "```python\n",
        "df.plot(kind=\"scatter\", x=\"some_column_1\", y=\"some_column_2\")\n",
        "```"
      ],
      "metadata": {
        "id": "JO6Dz1CiVUze"
      }
    },
    {
      "cell_type": "markdown",
      "source": [
        "a) Lag et stolpediagram over antall turer *fra* de ti mest populære holdeplassene.\n",
        "\n",
        "> **Hint:** du kan sortere resultatet av et kall til .size()-funksjonen og hente de N første radene med ```size().sort_values(ascending=False)[:N]```  \n",
        "\n",
        "b) Lag et spredningsplott med longitude og latitude for startholdeplassen på hhv. x- og y-aksen\n",
        "\n",
        "> **Hint:** Å scatter-plotte alle radene i hele _df_ vil ta lang tid. Vi er kun interessert i ett punkt for hver holdeplass. Bruk derfor ```df.drop_duplicates(subset=[\"start_station_id\"])``` før kallet til plot-funksjonen\n",
        "\n",
        "c) Åpne kart over Oslo Bysykkel [sine holdeplasser](https://oslobysykkel.no/stasjoner). Ser du noen likheter med scatter-plottet fra oppgave b?"
      ],
      "metadata": {
        "id": "_jeXic9kaGpb"
      }
    },
    {
      "cell_type": "code",
      "source": [
        "# TODO\n",
        "# Din kode her, oppgave a)"
      ],
      "metadata": {
        "id": "28zGxMewHprE"
      },
      "execution_count": null,
      "outputs": []
    },
    {
      "cell_type": "code",
      "source": [
        "# TODO\n",
        "# Din kode her, oppgave b)"
      ],
      "metadata": {
        "id": "msHFDu4FHttK"
      },
      "execution_count": null,
      "outputs": []
    },
    {
      "cell_type": "code",
      "source": [
        "#@title Løsning Oppgave 2.3\n",
        "\n",
        "# A)\n",
        "df.groupby(\n",
        "  df[\"start_station_name\"]\n",
        ").size().sort_values(ascending=False)[:10].plot(kind=\"bar\", figsize=(20,6))\n",
        "\n",
        "# B)\n",
        "df.drop_duplicates(subset=[\"start_station_id\"]).plot(\n",
        "  kind=\"scatter\",\n",
        "  y=\"start_station_latitude\",\n",
        "  x=\"start_station_longitude\"\n",
        ")"
      ],
      "metadata": {
        "id": "SdZVyi8rHwRl",
        "cellView": "form"
      },
      "execution_count": null,
      "outputs": []
    },
    {
      "cell_type": "markdown",
      "source": [
        "## **Oppgave 2.4: Introdusere nye kolonner**\n",
        "Ofte kan det være nyttig å introdusere nye kolonner. Nedenfor følger eksempelkode på nettopp dette, der det introduseres en kolonne \"weekday\":\n",
        "\n",
        "> **NB: Du trenger ikke kjøre koden under, da vi allerede har gjort nettopp dette på en litt raskere måte tidligere ;)**  \n",
        "\n",
        "```python\n",
        "# Hjelpemetode for å hente ut navnet på en ukedag\n",
        "import datetime\n",
        "import calendar\n",
        "def weekday_from_datetime(dt):\n",
        "  return calendar.day_name[\n",
        "    datetime.date(day=dt.day, month=dt.month, year=dt.year).weekday()\n",
        "  ]\n",
        "\n",
        "# Lager ny kolonne i df med navn \"weekday\"\n",
        "# axis=1 betyr at metoden utføres for alle rader\n",
        "df[\"weekday\"] = df.apply(\n",
        "  lambda row: weekday_from_datetime(row[\"started_at\"]),\n",
        "  axis=1\n",
        ")\n",
        "```"
      ],
      "metadata": {
        "id": "3Nq6B6uZVj23"
      }
    },
    {
      "cell_type": "markdown",
      "source": [
        "a) Vi ønsker å introdusere to nye kolonner i datasettet. Hjelpemetodene i kodeblokka under er hint om hvilke. Gi metodene nye, mer logiske navn. Kjør deretter kodeblokka\n",
        "\n",
        "> **NB: For denne oppgaven definerer vi et redusert datasett _df\\_2021\\_june_, ettersom kommandoene tar for lang tid på hele datasettet _df_**"
      ],
      "metadata": {
        "id": "by_JsIzBXBEi"
      }
    },
    {
      "cell_type": "code",
      "source": [
        "import geopy.distance\n",
        "# TODO: rename\n",
        "def mystical_method_1(x1, y1, x2, y2):\n",
        "  loc_1 = (x1, y1)\n",
        "  loc_2 = (x2, y2)\n",
        "  return geopy.distance.geodesic(loc_1, loc_2).meters\n",
        "\n",
        "# TODO: rename\n",
        "def mystical_method_2(m, s):\n",
        "  return m / s\n",
        "\n",
        "# Vi henter ut data for juni 2021\n",
        "df_2021_june = df[\n",
        "    (df[\"started_at\"] > '2021-06-01') &\n",
        "    (df[\"ended_at\"] < '2021-07-01')\n",
        "]"
      ],
      "metadata": {
        "id": "j8YHUocYYFLV"
      },
      "execution_count": null,
      "outputs": []
    },
    {
      "cell_type": "markdown",
      "source": [
        "b) Introduser de to nye kolonnene i *df_2021_june*, med hjelp av metodene du navnga over.\n",
        "\n",
        "> **NB1: Det kan ta et par minutter å introdusere de nye kolonnene, selv med det reduserte datasettet**  \n",
        "> **NB2: Etter du er ferdig med deloppgaven, sjekk at kolonnenavnene du valgte stemmer med kolonnenavnene i løsningsforslaget. Hvis ikke, erstatt og kjør kodeblokka på nytt. Vi har behov for de aktuelle kolonnene senere**"
      ],
      "metadata": {
        "id": "4jHSiVFzE5KL"
      }
    },
    {
      "cell_type": "code",
      "source": [
        "# TODO\n",
        "# Din kode her\n",
        "# Husk å bruke df_2021_june istedenfor df"
      ],
      "metadata": {
        "id": "dzyRp1GMYuJE"
      },
      "execution_count": null,
      "outputs": []
    },
    {
      "cell_type": "code",
      "source": [
        "#@title Løsning Oppgave 2.4\n",
        "\n",
        "# mystical_method_1 gir distanse i luftlinje mellom to punkter\n",
        "# mystical_method_2 gir gjennomsnittsfart, dvs. strekning delt på tid, med enhet meter pr sekund\n",
        "\n",
        "df_2021_june[\"straight_line_distance_m\"] = df_2021_june.apply(\n",
        "  lambda row: mystical_method_1(\n",
        "    row.start_station_latitude,\n",
        "    row.start_station_longitude,\n",
        "    row.end_station_latitude,\n",
        "    row.end_station_longitude\n",
        "  ),\n",
        "  axis=1\n",
        ")\n",
        "\n",
        "df_2021_june[\"avg_speed\"] = df_2021_june.apply(\n",
        "  lambda row: mystical_method_2(\n",
        "    row[\"straight_line_distance_m\"],\n",
        "    row[\"duration\"]\n",
        "  ),\n",
        "  axis=1\n",
        ")\n",
        "\n",
        "df_2021_june.head()"
      ],
      "metadata": {
        "id": "GEQY8fqiZ4yW",
        "cellView": "form"
      },
      "execution_count": null,
      "outputs": []
    },
    {
      "cell_type": "markdown",
      "source": [
        "# **Bolk 3: Enkel analyse av grafer**\n",
        "Analyse innebærer gjerne å omforme, gruppere og/eller filtrere data, for så å visualisere den, i håp om å besvare aktuelle spørsmål. I denne bolkenjobber vi med noen enkle analyseoppgaver. \n",
        "\n",
        "> NB: Det er **ikke** viktig å forstå selve Python-koden for de kommende oppgavene i detalj\n",
        "\n"
      ],
      "metadata": {
        "id": "IEnPeGxFPWX9"
      }
    },
    {
      "cell_type": "markdown",
      "source": [
        "## **Oppgave 3.1: Turer per time av døgnet**\n",
        "Kodeblokka under plotter antall turer hver time og for hvert år for hele datasettet. Kjør den, og svar på følgende:\n",
        "\n",
        "a) Hvilke timer på hhv. formiddagen og etttermiddagen er det flest turer? Virker dette logisk? Eventuelt hvorfor/hvorfor ikke?\n",
        "\n",
        "b) Antall turer i 2020 og 2021 er en del lavere enn i 2019. Hvorfor?\n",
        "\n",
        "c) Antall turer i 2022 er drastisk lavere enn tidligere år. Hvorfor?"
      ],
      "metadata": {
        "id": "VZBJnCzmYA_k"
      }
    },
    {
      "cell_type": "code",
      "source": [
        "df.groupby([df[\"started_at\"].dt.hour, df[\"started_at\"].dt.year]) \\\n",
        "  .size() \\\n",
        "  .unstack() \\\n",
        "  .plot(kind=\"bar\", figsize=(20,6), stacked=False, title=\"Sykkelturer gruppert på hel time og år\") \\\n",
        "  .legend(loc='center left', bbox_to_anchor=(1.0, 0.5))"
      ],
      "metadata": {
        "id": "smdo1TkuRsdO"
      },
      "execution_count": null,
      "outputs": []
    },
    {
      "cell_type": "code",
      "source": [
        "# TODO\n",
        "# Dine svar her\n",
        "\"\"\"\n",
        "Svar A:\n",
        "Svar B:\n",
        "Svar C:\n",
        "\"\"\""
      ],
      "metadata": {
        "id": "-0tdsstQUeXx"
      },
      "execution_count": null,
      "outputs": []
    },
    {
      "cell_type": "code",
      "source": [
        "#@title Løsning Oppgave 3.1\n",
        "\"\"\"\n",
        "Svar A: Ikke logisk, bysykkel åpner kl. 05 og stenger kl. 01\n",
        "        Se f.eks https://oslobysykkel.no/sporsmal-og-svar\n",
        "        Er i UTC-tid (to timer bak)\n",
        "Svar B: Pandemi + muligens videre utbredelse av elektriske sparkesykler\n",
        "Svar C: Vi er ikke ferdig med 2022 enda, har bare data tom. april\n",
        "\"\"\""
      ],
      "metadata": {
        "id": "BTEroCpzUesd",
        "cellView": "form"
      },
      "execution_count": null,
      "outputs": []
    },
    {
      "cell_type": "markdown",
      "source": [
        "## **Oppgave 3.2: Turer til og fra Skuret**\n",
        "Koden under produserer en graf over antall turer til og fra Vippetangen, gruppert på time på døgnet og retning.\n",
        "\n",
        "a) Med stor grad av synsing, tror du ansatte i Bekk står for *ingen*, *lite*, *noe*, *betydelig* eller *all* trafikk med bysykkel til og fra Vippetangen? \n",
        "\n",
        "b) Hva tenker du om grafen under? Hvilke realiteter kan forklare eventuelle mønster du ser?"
      ],
      "metadata": {
        "id": "1pAor7yzclSp"
      }
    },
    {
      "cell_type": "code",
      "source": [
        "df_vippetangen = df[\n",
        "  (\n",
        "    (df['end_station_name'].str.contains(\"Vippetangen vest\") |\n",
        "     df['end_station_name'].str.contains(\"Vippetangen øst\"))\n",
        "  ) |\n",
        "  (\n",
        "    (df['start_station_name'].str.contains(\"Vippetangen vest\") |\n",
        "     df['start_station_name'].str.contains(\"Vippetangen øst\"))\n",
        "  )\n",
        "]\n",
        "\n",
        "df_vippetangen.groupby([\n",
        "    df_vippetangen[\"started_at\"].dt.hour,\n",
        "    (df_vippetangen['end_station_name'].str.contains(\"Vippetangen vest\") | df_vippetangen['end_station_name'].str.contains(\"Vippetangen øst\"))\n",
        "  ]) \\\n",
        "  .size() \\\n",
        "  .unstack() \\\n",
        "  .plot(kind=\"bar\", figsize=(20,6), stacked=False, title=\"Sykkelturer til eller fra Vippetangen, gruppert på time og retning\") \\\n",
        "  .legend([\"Fra Vippetangen\", \"Til Vippetangen\"], loc='center left', bbox_to_anchor=(1.0, 0.5))"
      ],
      "metadata": {
        "id": "9Ft5MgDR3Eqe"
      },
      "execution_count": null,
      "outputs": []
    },
    {
      "cell_type": "code",
      "source": [
        "# TODO\n",
        "# Dine svar her\n",
        "\"\"\"\n",
        "Svar A:\n",
        "Svar B:\n",
        "\"\"\""
      ],
      "metadata": {
        "id": "Y_aeTqovd1pW"
      },
      "execution_count": null,
      "outputs": []
    },
    {
      "cell_type": "code",
      "source": [
        "#@title Løsning Oppgave 3.2\n",
        "\"\"\"\n",
        "Svar A: Uten særlig grunnlag ville jeg sagt \"noe\"\n",
        "        Det er flere andre arbeidsgivere o.l. i nærheten\n",
        "        Andeler er nok større i enkelte tidsrom, og særlig på ukedager\n",
        "\n",
        "Svar B: Trafikken til Vippetangen på morgenen stemmer bra med når en\n",
        "        kan se for seg at folk kommer på jobb (mellom 7 og 9)\n",
        "\n",
        "        Trafikken til tar seg opp igjen utover ettermiddagen. For Bekk\n",
        "        spesifikt kan dette tenkes å ha sammenheng med at folk fra diverse\n",
        "        prosjekter reiser til Skuret for å være med på ettermiddagsarrangement,\n",
        "        faggruppemøter o.l.\n",
        "\n",
        "        Trafikken fra Vippetangen er nokså normalfordelt rundt kl. 16.\n",
        "        Dette stemmer godt med når folk drar fra jobb\n",
        "\n",
        "        Det er viktig å presisere at datagrunnlaget ikke gir noe _bevis_\n",
        "        for det som nevnes over, men kan være aktuelle sammenhenger\n",
        "        å utforske videre om stemmer eller ikke.\n",
        "\n",
        "        Andre faktoer enn Bekk kan også være i spill. F.eks er det\n",
        "        vanlig at stativene på Vippetangen er nokså tomme på morgenen.\n",
        "        Videre fylles bysykkelstativet opp utover morgenen, som gjør at\n",
        "        man ikke får parkert flere sykler der før det tømmes igjen.\n",
        "\"\"\""
      ],
      "metadata": {
        "id": "swRfpAnTd2Eb",
        "cellView": "form"
      },
      "execution_count": null,
      "outputs": []
    },
    {
      "cell_type": "markdown",
      "source": [
        "## **Oppgave 3.3: Turer til og fra Skuret cont.**\n",
        "\n",
        "I forrige oppgave fant vi (kanskje?) en viss indikasjon på at folk (og da også Bekkere) benytter bysykkel til og fra Vippetangen i forbindelse med jobb. I denne oppgaven skal vi forsøke å få ytterligere bevis for eller mot dette.\n",
        "\n",
        "Koden under produserer to plott, som begge viser antall turer gruppert på ukedag og årstall:\n",
        "- Første plott viser turer til Skuret mellom 7 og 9, og turer fra Skuret mellom 15 og 17\n",
        "- Andre plott viser alle turer i hele Oslo, for hele døgnet\n",
        "\n",
        "a) Sammenlikn de to plottene. Hvilke mønster (og særlig evt. avvikende mønster) ser du? Hva kan disse eventuelle møstrene indikere?\n",
        "\n",
        "b) Vil du si at du har *ingen*, *lite*, *noe*, *betydelige* eller *sterke* indikasjoner på din konklusjon i oppgave a?\n",
        "\n",
        "**NB: koden kan ta en minutt eller to å kjøre, det er mange rader som må prosesseres :)**"
      ],
      "metadata": {
        "id": "KaoN28_gYapL"
      }
    },
    {
      "cell_type": "code",
      "source": [
        "df_vippetangen = df[\n",
        "  (\n",
        "    (df['end_station_name'].str.contains(\"Vippetangen vest\") |\n",
        "     df['end_station_name'].str.contains(\"Vippetangen øst\")) &\n",
        "    (df['ended_at'].dt.hour > 5) &\n",
        "    (df['ended_at'].dt.hour < 7)\n",
        "  ) |\n",
        "  (\n",
        "    (df['start_station_name'].str.contains(\"Vippetangen vest\") |\n",
        "     df['start_station_name'].str.contains(\"Vippetangen øst\")) &\n",
        "    (df['started_at'].dt.hour > 13) &\n",
        "    (df['started_at'].dt.hour < 15)\n",
        "  )\n",
        "]\n",
        "\n",
        "df_vippetangen.groupby([\"weekday\", df_vippetangen[\"started_at\"].dt.year]) \\\n",
        "  .size() \\\n",
        "  .unstack() \\\n",
        "  .plot(kind=\"bar\", stacked=False, title=\"Sykkelturer til og fra Skuret, etter ukedag og år\") \\\n",
        "  .legend(loc='center left', bbox_to_anchor=(1.0, 0.5))\n",
        "  \n",
        "df.groupby([\"weekday\", df[\"started_at\"].dt.year]) \\\n",
        "  .size() \\\n",
        "  .unstack() \\\n",
        "  .plot(kind=\"bar\", stacked=False, title=\"Alle sykkelturer, etter ukedag og år\") \\\n",
        "  .legend(loc='center left', bbox_to_anchor=(1.0, 0.5))"
      ],
      "metadata": {
        "id": "QYvghMcFYbR7"
      },
      "execution_count": null,
      "outputs": []
    },
    {
      "cell_type": "code",
      "source": [
        "# TODO\n",
        "# Dine svar her\n",
        "\"\"\"\n",
        "Svar A:\n",
        "Svar B:\n",
        "\"\"\""
      ],
      "metadata": {
        "id": "Pk_k4Ha0tC-S"
      },
      "execution_count": null,
      "outputs": []
    },
    {
      "cell_type": "code",
      "source": [
        "#@title Løsning Oppgave 3.3\n",
        "\"\"\"\n",
        "Svar A: Nedgangen fra 2019 til 2020 ser ut til å være vesentlig større\n",
        "        for turer til og fra Vippetangen enn for øvrige turer.\n",
        "        Fra 2020 til 2021 er det _oppgang_ for Vippetangen, samtidig\n",
        "        som det er nedgang for øvrige turer.\n",
        "        Ettersom Bekk (og flere andre arbeidsgivere i Oslo) hadde\n",
        "        påbud om hjemmekontor i store deler av 2020 _kan_ dette\n",
        "        være en indikasjon på at nedgangen skyldes bortfall av\n",
        "        jobbplendlere\n",
        "\n",
        "Svar B: Jeg ville sagt vi har \"noe\" indikasjoner. Differansen i\n",
        "        nedgang er nokså stor, men vi har ingen overveldende\n",
        "        bevis på hvorfor. Det er også noen noen motstridiger, eller\n",
        "        i det minste rariteter, f.eks at nedgangen turer til og\n",
        "        fra Skuret ser ut til å være prosentvis størst på søndager\n",
        "\"\"\""
      ],
      "metadata": {
        "id": "eNf1Uw5OtDKQ",
        "cellView": "form"
      },
      "execution_count": null,
      "outputs": []
    },
    {
      "cell_type": "markdown",
      "source": [
        "## Oppgave 3.4: Nedbør og antall turer hvert døgn\n",
        "\n",
        "a) Lag en ny dataframe, *df_prec*, som inneholder tre kolonner med hhv. nedbør, dato og antall turer den datoen\n",
        "\n",
        "> **Hint:** Etter gruppering må man gjøre litt triksing for å få telleren som en egen kolonne. Bruk f.eks ```.size().to_frame(name=\"count\").reset_index()```  "
      ],
      "metadata": {
        "id": "6WgOYeOnTD5i"
      }
    },
    {
      "cell_type": "code",
      "source": [
        "# TODO\n",
        "# Din kode her, oppgave a)"
      ],
      "metadata": {
        "id": "rEQI2aiyeXeM"
      },
      "execution_count": null,
      "outputs": []
    },
    {
      "cell_type": "code",
      "source": [
        "#@title Løsning Oppgave 3.4 A\n",
        "\n",
        "df_prec = df.groupby(\n",
        "    [\"precipitation_amount\", \"trip_date\"]\n",
        "  ).size() \\\n",
        "  .to_frame(name=\"count\") \\\n",
        "  .reset_index()\n",
        "df_prec.head()"
      ],
      "metadata": {
        "id": "9pu6jg06YAeG",
        "cellView": "form"
      },
      "execution_count": null,
      "outputs": []
    },
    {
      "cell_type": "markdown",
      "source": [
        "b) Filtrer ut de radene med mer enn 1000 turer og mer enn 10mm nedbør, og plott punktene i et scatter-plot med antall turer på X-aksen og nedbørsmengde på Y-aksen"
      ],
      "metadata": {
        "id": "sx1qPI9ufNVe"
      }
    },
    {
      "cell_type": "code",
      "source": [
        "# TODO\n",
        "# Din kode her, oppgave b)"
      ],
      "metadata": {
        "id": "bCcIj99UeYXy"
      },
      "execution_count": null,
      "outputs": []
    },
    {
      "cell_type": "code",
      "source": [
        "#@title Løsning Oppgave 3.4 B\n",
        "\n",
        "df_prec[\n",
        "    (df_prec[\"count\"] > 1000) &\n",
        "    (df_prec[\"precipitation_amount\"] > 10)\n",
        "].plot(kind=\"scatter\", x=\"count\", y=\"precipitation_amount\")"
      ],
      "metadata": {
        "id": "7rG2xlLGUMlO",
        "cellView": "form"
      },
      "execution_count": null,
      "outputs": []
    },
    {
      "cell_type": "markdown",
      "source": [
        "c) Basert på plottet i forrige deloppgave, hva kan vi si om sammenhengen mellom nedbør og antall turer? Vil du påstå nedgangen i antall turer på dager med mye nedbør er større, lik eller mindre enn forventet? Begrunn påstanden din.\n",
        "\n",
        "> **Hint:** Se f.eks etter outliers (punkter som skiller seg ut), mønster, trender og liknende  "
      ],
      "metadata": {
        "id": "88y7T7BWfPS8"
      }
    },
    {
      "cell_type": "code",
      "source": [
        "# TODO\n",
        "# Din kode her, oppgave c)"
      ],
      "metadata": {
        "id": "Dm_fVh3yeZ0S"
      },
      "execution_count": null,
      "outputs": []
    },
    {
      "cell_type": "code",
      "source": [
        "#@title Løsning Oppgave 3.4 C\n",
        "\n",
        "\"\"\"\n",
        "  Jeg vil påstå det er vesentlig flere dager enn\n",
        "  forventet med både mye nedbør og mange turer.\n",
        "  En ville forventet å se en drastisk nedgang i\n",
        "  antall turer på dager med mye regn.\n",
        "\n",
        "  En potensielt stor feilkilde i vårt datagrunnlag\n",
        "  er at turene foregår i nokså korte tidsrom, mens\n",
        "  nedbørsmengden er hentet fra en datakilde\n",
        "  som oppgir nedbør hvert hele døgn. Når på døgnet\n",
        "  og med hvilken intensitet nedbøret pågikk kan ha\n",
        "  vesentlig innvirkning på antall nedbørsfrie turer\n",
        "  den dagen, og dermed også totalt antall turer.\n",
        "\n",
        "  En annen variabel er at vi, basert på de overfladiske\n",
        "  undersøkelsene vi har gjort så langt, ikke vet noe\n",
        "  mer om dagene vi ville ansett som outliers i plottet.\n",
        "  Er det dager der en stor begivenhet pågikk?\n",
        "  Er det en hverdag, og dermed påvirket av pendlere\n",
        "  som sykler til/fra jobb uavhengig av vær?\n",
        "  Nærmere undersøkelser er nødvendig for å si noe\n",
        "  helt konkret.\n",
        "\n",
        "  ....\n",
        "\n",
        "  Akkurat i dette tilfellet kan vi derimot med sikkerhet\n",
        "  si at datagrunnlaget vårt er feil. Bakgrunnen for\n",
        "  dette er at de som sammenstilte dataen i ettertid\n",
        "  fant ut at nedbøren ikke er målt mellom kl. 00\n",
        "  hver dag, men mellom kl. 06. Dette gjør at\n",
        "  nedbørsmengden pr døgn er direkte feil... :)\n",
        "\n",
        "\"\"\""
      ],
      "metadata": {
        "id": "s82nzaHoZ0U0",
        "cellView": "form"
      },
      "execution_count": null,
      "outputs": []
    },
    {
      "cell_type": "markdown",
      "source": [
        "# Bolk 4: Enkel modellering"
      ],
      "metadata": {
        "id": "Mt8oSYym_GF4"
      }
    },
    {
      "cell_type": "markdown",
      "source": [
        "## **Oppgave 4.1: Lineær regresjon**\n",
        "Frem til nå har vi lastet inn data og gjort noen enkle visualiseringer, transformasjoner og analyser. I den virkelige verden ønsker man ofte å bruke datagrunnlaget sitt for å bygge modeller som kan benyttes på ny data i fremtiden. Noen eksempler på slike modeller i vårt tilfelle er:\n",
        "- En modell som kan predikere antall sykkelturer fra og til et stoppested basert på beliggenhet, forventet temperatur og forventet nedbør\n",
        "- En modell som kan predikere tidspunkt på døgnet et stoppested går tom for sykler basert på antall reiser til og fra\n",
        "- ... og mye annet\n",
        "\n",
        "Å tilpasse og trene slike modeller med høy nøyaktighet og lav usikkerhet i resultatene kan være svært vanskelig. Hvilke type modeller som egner seg kan også variere stort, fra enkle matematiske modeller som lineær regresjon, til avanserte maskinlæringsmodeller som f.eks i selvkjørende biler.\n",
        "\n",
        "I denne oppgaven skal vi trene en enkel lineær modell som predikerer luftavstanden mellom to holdeplasser basert på latitude og longitude. En slik modell er nødt til å ta inn en mengde verdier **X**, og returnere den predikerte avstanden **y**.\n",
        "\n",
        "a) Hvilke kolonner bør inngå i **X**, og hvilke kolonner bør inngå i **y**?"
      ],
      "metadata": {
        "id": "1mWQ9Oac_K7w"
      }
    },
    {
      "cell_type": "code",
      "source": [
        "# TODO\n",
        "# Din kode her, oppgave a)"
      ],
      "metadata": {
        "id": "Vt_Pg0zdT9XN"
      },
      "execution_count": null,
      "outputs": []
    },
    {
      "cell_type": "code",
      "source": [
        "#@title Løsning Oppgave 4.1 A\n",
        "\n",
        "#  X: latitude og longitude for hhv. start- og stoppsted\n",
        "#  y: straight_line_distance_m"
      ],
      "metadata": {
        "id": "rc_4s2YIJG_E",
        "cellView": "form"
      },
      "execution_count": null,
      "outputs": []
    },
    {
      "cell_type": "markdown",
      "source": [
        "b) Lag en ny dataframe, *df_mod*, som kun inneholder de aktuelle kolonnene, og som _ikke_ inneholder duplikate rader.\n",
        "\n",
        "> **NB: Bruk df_2021_june som grunnlag, _ikke_ df**"
      ],
      "metadata": {
        "id": "9P-Ar73BJUm8"
      }
    },
    {
      "cell_type": "code",
      "source": [
        "# TODO\n",
        "# Din kode her\n",
        "df_mod = ..."
      ],
      "metadata": {
        "id": "WLVO_te1JlkI"
      },
      "execution_count": null,
      "outputs": []
    },
    {
      "cell_type": "code",
      "source": [
        "#@title Løsning Oppgave 4.1 B\n",
        "\n",
        "df_mod = df_2021_june[[\"start_station_latitude\", \"start_station_longitude\", \"end_station_latitude\", \"end_station_longitude\", \"straight_line_distance_m\"]].drop_duplicates()"
      ],
      "metadata": {
        "id": "l-BMWrEbJh49",
        "cellView": "form"
      },
      "execution_count": null,
      "outputs": []
    },
    {
      "cell_type": "markdown",
      "source": [
        "Koden under bruker et bibiliotek *sklearn* for å instansiere og tilpasse en enkel lineær modell. Prosessen er som følger:\n",
        "- Definer en modell\n",
        "- Del dataen opp i treningsdata (som skal brukes for å tilpasse modellen) og testdata (som skal brukes for å teste om modellen generaliserer til data den _ikke_ har blitt trent på)\n",
        "- Tilpass modellen på treningsdata\n",
        "- Test modellen på testdata\n",
        "- Avgjør om modellen gjør en god jobb eller ikke, f.eks ved å regne ut noen metrikker\n",
        "\n",
        "c) Kjør koden under. Se på verdien for \"mean_absolute_error\" som printes ut nederst. Dette er hvor mange meter modellen bommer med i gjennomsnitt per rad i testdataen. Er dette et godt eller dårlig resultat?"
      ],
      "metadata": {
        "id": "8PwFQoslJpQD"
      }
    },
    {
      "cell_type": "code",
      "source": [
        "df_mod = df_2021_june[[\"start_station_latitude\", \"start_station_longitude\", \"end_station_latitude\", \"end_station_longitude\", \"straight_line_distance_m\"]].drop_duplicates()\n",
        "\n",
        "# Vi definerer X (input) og y (output) som subset av data\n",
        "X = df_mod[[\"start_station_latitude\", \"start_station_longitude\", \"end_station_latitude\", \"end_station_longitude\"]]\n",
        "y = df_mod[\"straight_line_distance_m\"]\n",
        "\n",
        "# Vi bruker en hjelpemetode for å dele X- og y-data for trening og testing\n",
        "from sklearn.model_selection import train_test_split\n",
        "X_train, X_test, y_train, y_test = train_test_split(X, y, test_size=0.20)\n",
        "\n",
        "# Vi instansierer og \"trener\" en lineær modell\n",
        "from sklearn.linear_model import LinearRegression\n",
        "model = LinearRegression()\n",
        "model.fit(X_train, y_train)\n",
        "\n",
        "# Vi bruker den ferdigtrente modellen til å predikere y-verdi for\n",
        "# en mengde X-verdien modellen _ikke_ har blitt trent med\n",
        "y_pred = model.predict(X_test)\n",
        "\n",
        "# Vi regner ut en metrikk som kan hjelpe oss med å avgjøre om modellen gjør en god jobb\n",
        "from sklearn.metrics import mean_absolute_error\n",
        "mae = mean_absolute_error(y_test, y_pred)\n",
        "print(mae)"
      ],
      "metadata": {
        "colab": {
          "base_uri": "https://localhost:8080/"
        },
        "id": "WV4t3UWvKTzT",
        "outputId": "1baeb3d7-08c4-4f47-e1bf-06404df0ad0f"
      },
      "execution_count": null,
      "outputs": [
        {
          "output_type": "stream",
          "name": "stdout",
          "text": [
            "871.197238934661\n"
          ]
        }
      ]
    },
    {
      "cell_type": "code",
      "source": [
        "# TOOD\n",
        "# Svar C:"
      ],
      "metadata": {
        "id": "bhqcTuNcKtTN"
      },
      "execution_count": null,
      "outputs": []
    },
    {
      "cell_type": "code",
      "source": [
        "#@title Løsning Oppgave 4.1 C\n",
        "\n",
        "# Modellen er ganske dårlig - den bommer med ca. 871 meter i gjennomsnitt"
      ],
      "metadata": {
        "id": "VK7iNFBDKxbS",
        "cellView": "form"
      },
      "execution_count": null,
      "outputs": []
    },
    {
      "cell_type": "markdown",
      "source": [
        "d) En (enkel) modell kan ha vanskelig for å forstå sammenhengen mellom \"latitude\", \"longitude\", \"start\", \"end\" og slikt. Derfor bør vi gjøre mest mulig for å gjøre ting enklest mulig. Hvilke transformasjoner kan vi gjøre for å forenkle problemstillingen?"
      ],
      "metadata": {
        "id": "fJdQsukrLFCh"
      }
    },
    {
      "cell_type": "code",
      "source": [
        "# TODO\n",
        "# Svar D:"
      ],
      "metadata": {
        "id": "kIlZArEVLkWw"
      },
      "execution_count": null,
      "outputs": []
    },
    {
      "cell_type": "code",
      "source": [
        "#@title Løsning Oppgave 4.1 D\n",
        "\n",
        "# Vi bør eliminere start og end og heller bare ha\n",
        "# differansen mellom start og end for hhv. latitude og longitude"
      ],
      "metadata": {
        "id": "eBwhREnwLmRa",
        "cellView": "form"
      },
      "execution_count": null,
      "outputs": []
    },
    {
      "cell_type": "markdown",
      "source": [
        "e) Koden under gjør noen endringer for å forbedre modellen sin ytelse. Kjør koden og observer resultatet. Gjør modellen fremdeles en dårlig jobb? Hva kan eventuelt være årsaken?"
      ],
      "metadata": {
        "id": "12D_p6jGLxhN"
      }
    },
    {
      "cell_type": "code",
      "source": [
        "df_mod = df_2021_june[[\"start_station_latitude\", \"start_station_longitude\", \"end_station_latitude\", \"end_station_longitude\", \"straight_line_distance_m\"]].drop_duplicates()\n",
        "\n",
        "# Vi lager to nye kolonner med differanse i hhv. latitude og longitude\n",
        "df_mod[\"diff_latitude\"] = df_mod.apply(lambda row: row[\"end_station_latitude\"] - row[\"start_station_latitude\"], axis=1)\n",
        "df_mod[\"diff_longitude\"] = df_mod.apply(lambda row: row[\"end_station_longitude\"] - row[\"start_station_longitude\"], axis=1)\n",
        "\n",
        "X = df_mod[[\"diff_latitude\", \"diff_longitude\"]]\n",
        "y = df_mod[\"straight_line_distance_m\"]\n",
        "\n",
        "# Vi bruker en hjelpemetode for å dele data i X- og y-data for hhv. trening og testing\n",
        "from sklearn.model_selection import train_test_split\n",
        "X_train, X_test, y_train, y_test = train_test_split(X, y, test_size=0.20)\n",
        "\n",
        "# Vi instansierer og \"trener\" en lineær modell\n",
        "from sklearn.linear_model import LinearRegression\n",
        "model = LinearRegression()\n",
        "model.fit(X_train, y_train)\n",
        "\n",
        "# Vi bruker den ferdigtrente modellen til å predikere y-verdi for\n",
        "# en mengde X-verdien modellen _ikke_ har blitt trent med\n",
        "y_pred = model.predict(X_test)\n",
        "\n",
        "# Vi regner ut en metrikk som kan hjelpe oss med å avgjøre om modellen gjør en god jobb\n",
        "from sklearn.metrics import mean_absolute_error\n",
        "mae = mean_absolute_error(y_test, y_pred)\n",
        "print(mae)"
      ],
      "metadata": {
        "colab": {
          "base_uri": "https://localhost:8080/"
        },
        "id": "LwKNZ8pbMDv8",
        "outputId": "1ccf095f-cd27-46dd-8d23-167b96448ebb"
      },
      "execution_count": null,
      "outputs": [
        {
          "output_type": "stream",
          "name": "stdout",
          "text": [
            "871.9320563227752\n"
          ]
        }
      ]
    },
    {
      "cell_type": "code",
      "source": [
        "# TODO\n",
        "# Svar E:"
      ],
      "metadata": {
        "id": "BGzZ_VyJMigN"
      },
      "execution_count": null,
      "outputs": []
    },
    {
      "cell_type": "code",
      "source": [
        "#@title Løsning Oppgave 4.1 E\n",
        "\n",
        "\"\"\"\n",
        "  Modellen er fremdeles like dårlig.\n",
        "\n",
        "  Differansene vi introduserte i forrige deloppgave kan være negative.\n",
        "  En enkel, lineær, matematisk modell klarer ikke generalisere mellom positive og\n",
        "  negative størrelser på denne måten. Vi må eliminere de negative størrelsene\n",
        "  for at modellen skal trenes på en god måte\n",
        "\n",
        "\"\"\""
      ],
      "metadata": {
        "id": "NeYHsNqgMkob",
        "cellView": "form"
      },
      "execution_count": null,
      "outputs": []
    },
    {
      "cell_type": "markdown",
      "source": [
        "f) Koden under gjør nok en endring for å forbedre modellen sin ytelse. Kjør koden og observer resultatet. Gjør modellen fremdeles en dårlig jobb?"
      ],
      "metadata": {
        "id": "rEMnsWg9NgbE"
      }
    },
    {
      "cell_type": "code",
      "source": [
        "df_mod = df_2021_june[[\"start_station_latitude\", \"start_station_longitude\", \"end_station_latitude\", \"end_station_longitude\", \"straight_line_distance_m\"]].drop_duplicates()\n",
        "\n",
        "# Vi lager to nye kolonner med differanse i hhv. latitude og longitude,\n",
        "# men denne gangen passer vi på å absoluttverdi av differansen\n",
        "df_mod[\"abs_diff_latitude\"] = df_mod.apply(lambda row: abs(row[\"end_station_latitude\"] - row[\"start_station_latitude\"]), axis=1)\n",
        "df_mod[\"abs_diff_longitude\"] = df_mod.apply(lambda row: abs(row[\"end_station_longitude\"] - row[\"start_station_longitude\"]), axis=1)\n",
        "\n",
        "X = df_mod[[\"abs_diff_latitude\", \"abs_diff_longitude\"]]\n",
        "y = df_mod[\"straight_line_distance_m\"]\n",
        "\n",
        "# Vi bruker en hjelpemetode for å dele data i X- og y-data for hhv. trening og testing\n",
        "from sklearn.model_selection import train_test_split\n",
        "X_train, X_test, y_train, y_test = train_test_split(X, y, test_size=0.20)\n",
        "\n",
        "# Vi instansierer og \"trener\" en lineær modell\n",
        "from sklearn.linear_model import LinearRegression\n",
        "model = LinearRegression()\n",
        "model.fit(X_train, y_train)\n",
        "\n",
        "# Vi bruker den ferdigtrente modellen til å predikere y-verdi for\n",
        "# en mengde X-verdien modellen _ikke_ har blitt trent med\n",
        "y_pred = model.predict(X_test)\n",
        "\n",
        "# Vi regner ut en metrikk som kan hjelpe oss med å avgjøre om modellen gjør en god jobb\n",
        "from sklearn.metrics import mean_absolute_error\n",
        "mae = mean_absolute_error(y_test, y_pred)\n",
        "print(mae)"
      ],
      "metadata": {
        "colab": {
          "base_uri": "https://localhost:8080/"
        },
        "id": "2LsOao-G_k6g",
        "outputId": "1bf1c9f1-c96d-4254-e31b-dd944c627874"
      },
      "execution_count": null,
      "outputs": [
        {
          "output_type": "stream",
          "name": "stdout",
          "text": [
            "168.87934238665238\n"
          ]
        }
      ]
    },
    {
      "cell_type": "code",
      "source": [
        "# TODO\n",
        "# Svar F:"
      ],
      "metadata": {
        "id": "f3DIsIqCOO7M"
      },
      "execution_count": null,
      "outputs": []
    },
    {
      "cell_type": "code",
      "source": [
        "#@title Løsning Oppgave 4.1 F\n",
        "\n",
        "\"\"\"\n",
        "  Nå gjør modellen en vesentlig bedre jobb. Ca. 170m feil er ikke helt håpløst\n",
        "  \n",
        "  Det modellen egentlig har lært seg nå er en transformasjon mellom avstand\n",
        "  i latitude/longitude og avstand i meter:\n",
        "     avstand_meter = a * (avstand_longitude) + b * (avstand_latitude)\n",
        "  der a og b er de konstantene modellen har regnet ut\n",
        "  at gir lavest avvik i prediksjon for treningsdataen\n",
        "\n",
        "  I virkeligheten vet vi at denne modellen ikke er tilstrekkelig for\n",
        "  å modellere denne transformasjonen helt perfekt. I praksis vil det være\n",
        "  noe differanse mtp. jordens krumning, i tillegg til at avstanden mellom\n",
        "  to punkter i planet regnes ut ved bruk av Pytagoras’ læresetning, som\n",
        "  ikke er en lineær operasjon. Vi kunne forbedret modellen sin ytelse\n",
        "  ved å introdusere f.eks ulineæriteter\n",
        "\n",
        "\"\"\""
      ],
      "metadata": {
        "id": "4_v9R8i1OQhV",
        "cellView": "form"
      },
      "execution_count": null,
      "outputs": []
    },
    {
      "cell_type": "markdown",
      "source": [
        "# Avsluttende ord\n",
        "## Roller innen data og analyse\n",
        "Uten å kjenne bransjen kan det være litt uklart hvilke roller innen data og analyse som eksisterer. I forrige workshop om rollen som data engineer lærte du om prosessen med å samle inn, lagre, transformere og tilgjengeliggjøre data. Resultatet av denne prosessen er data av ulik kvalitet og på ulikt format, som kan benyttes av ulike konsumenter. Noen av disse er:\n",
        "- **Folk i ikke-tekniske roller**, f.eks forretningsanalytikere, som eksponeres for dataen via helintegrerte løsninger og/eller enkle grensesnitt. Disse har god forståelse av selskapets forretningsområde, og bruker data og analyse for å gjøre strategiske valg\n",
        "- **Dataanalytikere**, som visualiserer og bearbeider data for å finne statistiske sammenhenger og trender. Disse har behov for prosessert data av god kvalitet, men kan gjøre enkle transformasjoner og filtreringer selv\n",
        "- **Maskinlæringsteknikkere** (\"ML engineers\"), med behov for unbiased data til å trene, evaluere og tilgjengeliggjøre mer avanserte modeller og verktøy.\n",
        "- **Data scientists**, som arbeider på et dypere teknisk og teoretisk nivå enn dataanalytikerne. Større grad av autonomi, og behov for kontroll og fleksibilitet i datagrunnlaget. Forsøker gjerne å finne nye, innotivate måter å skape verdi fra data på\n",
        "\n",
        "Ulike virksomheter vil kreve ulike blandinger av disse rollene. Et forsøk på en slags kategorisering er som følger:\n",
        "- **Maskinlæring, modellering eller AI er en vesentlig del av kjerneproduktet.** Krever større andel data scientists og ML-engineers, for å utvikle state-of-the-art teknikker og trene modeller som kan rulles ut til produktene sine. Eksempel: Tesla, DeepMind\n",
        "- **Data er en vesentlig del av kjerneproduktet.** Krever større andel data engineer som kan tilgjengeliggjøre data, og forretningsutviklere som kan forstå kundenes databehov. F.eks: selskaper som leverer data-as-a-service, Unacast\n",
        "- **Data og modellering som essensielt verktøy for beslutningsstøtte.** Litt av alle roller. Typisk selskaper der data og analyse kan være et viktig verktøy for å understøtte selskapet forretningsutvikling og beslutningstaking, men ikke i seg selv er en del av kjernevirksomheten. Eksempel: forsikringsselskaper, banker, reklameselskaper mm.\n",
        "- **Som øvrig verktøy.** Data og analyse vil kunne gi verdi, men er lavere prioritert og utføres mer ad hoc. I mindre selskaper kan f.eks en utvikler ha birolle som data engineer, mens en annen har birolle som analytiker.\n",
        "\n",
        "## Hvordan komme i gang med data og analyse\n",
        "Det er vanskelig å gi noen universielle og konkrete råd, men:\n",
        "- Dersom du er interessert i en rolle som **analytiker** bør du bruke tid på å lære deg grunnleggende uthenting, transformasjon og visualisering, samt bli kjent med moderne verktøy som Google Data Studio, Microsoft Power BI og/eller Tableau.\n",
        "\n",
        "- Dersom du er interessert i **modellering og/eller data science** bør du tilegne deg en grunnleggende forståelse for statistikk, statistisk modellering og statistisk signifikans. Statistikk er helt essensielt i så godt som alle datadrevne metoder. Videre bør man bli kjent med kodepakker som f.eks pandas, keras, sklearn, tensorflow, og/eller pytorch."
      ],
      "metadata": {
        "id": "aTVLBD6dSguj"
      }
    }
  ]
}