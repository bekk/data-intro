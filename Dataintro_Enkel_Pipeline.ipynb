{
  "nbformat": 4,
  "nbformat_minor": 0,
  "metadata": {
    "colab": {
      "name": "Dataintro Enkel Pipeline.ipynb",
      "provenance": [],
      "collapsed_sections": []
    },
    "kernelspec": {
      "name": "python3",
      "display_name": "Python 3"
    },
    "language_info": {
      "name": "python"
    }
  },
  "cells": [
    {
      "cell_type": "markdown",
      "source": [
        "# Datapipeline introduksjon\n",
        "\n",
        "# Workshop: Introduksjon til dataflyt og transformasjon\n",
        "\n",
        "**Du vil lære:**\n",
        "- Helt overordnet hva dataflyt og transformasjon er, hva det innebærer og hvordan det utføres i praksis\n",
        "- Litt om Google Cloud Storage og Google BigQuery\n",
        "- Å laste inn, hente ut og jobbe med data fra Google BigQuery\n",
        "- Gjøre enkle transformasjoner ved hjelp av datamanipulerings verktøy\n",
        "- Lage et nytt og rikere datasett med data fra flere kilder \n",
        "\n",
        "**Du vil _ikke_ lære:**\n",
        "- Hvordan man setter opp en faktisk dataflyt eller lignende i Google Cloud Platform\n",
        "- Spesifikke detaljer om verktøy som Google Cloud Platform, Pandas, Matplotlib, Keras, Tensorflow og liknende"
      ],
      "metadata": {
        "id": "raflZ3eh1f4w"
      }
    },
    {
      "cell_type": "markdown",
      "source": [
        "\n",
        "## Noen utvalgte Google skykomponenter\n",
        "#### Storage Bucket (Google Cloud Storage)\n",
        "\n",
        "En storage bucket er fin å ha når man ønsker å lagre store mengder med rådata, eller ustrukturerte data. Hvis man har f.eks CSV uttrekk, kan disse lastes opp i en cloud storage.\n",
        "\n",
        "Cloud Storage er også fin å bruke som et landingsområde for dataene dine. F.eks hvis du henter data via et API, kø/streaming eller batch, men ikke vet hvordan datastrukturene dine ser ut, kan du lagre de på Cloud Storage. På denne måten trenger du ikke å være avhengig av kildesystemet hvor dataene stammaer fra for å jobbe videre med disse.\n",
        "\n",
        "En av fordelene med Google Cloud Storage er at det er billig å lagre store mengder data.\n",
        "\n",
        "Det er derimot ikke så lett å lese innholdet i filene direkte fra en storage bucket. Vi ønsker derfor å flytte disse et sted hvor det er lett å analysere. Et slikt verktøy kan være Google BigQuery, som er en database tilpasset analyse. Dette kan videre kobles opp mot visualiseringsverktøy som Google Data Studio eller Google Colab notebooks (ML).\n",
        "\n",
        "#### Google BigQuery\n",
        "\n",
        "BigQuery er en SQL basert database som er optimalisert for analyse. I motsetning til tradisjonelle SQL servere, er den kolonnebasert (ikke radbasert). Dette medfører at den er veldig rask på å regne ut aggregerte tall, som er supert for analyseformål. Den takler også brede tabeller veldig godt, slik at man kan ha mange flagg/attributter per rad."
      ],
      "metadata": {
        "id": "DPfwNsUoPddk"
      }
    },
    {
      "cell_type": "markdown",
      "source": [
        "\n",
        "\n",
        "#### Oppgave 1 - Google Cloud Storage\n",
        "I Google Cloud Console (GUI) for prosjektet (data-intro), finn Google Cloud Storage. Her finner du en bucket med to ulike datasett. Hva finner du ut om disse datasettene (metadata)?\n",
        "- Hvilken filtype er de?\n",
        "- Hvor store er filene?\n",
        "- Annen informasjon?\n",
        "\n",
        "\n",
        "\n",
        "\n",
        "\n"
      ],
      "metadata": {
        "id": "wQ3gSFzt9Dnz"
      }
    },
    {
      "cell_type": "markdown",
      "source": [
        "#### Oppgave 2 - BigQuery\n",
        "I Google Cloud Storage kan vi se \"data om data(settet)\" vårt, såkalt metadata. Men det er vanskelig å se hva som faktisk ligger inne i datasettet. Dette er ikke lett å se fra en Storage Bucket, så vi ønsker å flytte dataen til et annet verktøy.\n",
        "\n",
        "\n",
        "Vi ønsker å flytte datasettene til BigQuery for å kunne se innholdet.\n",
        "\n",
        "1. Finn BigQuery i menyen\n",
        "2. Velg prosjektet \"Data intro\" og deretter marker datasettet bysykkel_main\n",
        "3. I menylinjen oppe til høyre, velg \"Create table\". Kall den nye tabellen din bysykkel_(gruppenavn)\n",
        "4. Her kan du velge datakilden din. Vi ønsker å velge oslobysykkel datasettet fra Storage Bucket. Filformatet fant du i oppgave 1. Fyll inn informasjon om \"destination\". La BigQuery definere skjema for deg, og behold ellers standard innstillingene.\n",
        "\n",
        "Datasettet er nå lastet inn i BigQuery. BigQuery har en preview funksjon, i tillegg til muligheten til å spørre om data ved SQL-spørringer. Hva finner du ut om skjema og innholdet?"
      ],
      "metadata": {
        "id": "9tCc63aZWUgl"
      }
    },
    {
      "cell_type": "markdown",
      "source": [
        "\n",
        "\n",
        "\n",
        "#### Oppgave 3 - BigQuery\n",
        "Gjenta det samme for det andre datasettet, kall tabellen værdata_(gruppenavn).\n",
        "\n"
      ],
      "metadata": {
        "id": "cI5dylecWZnY"
      }
    },
    {
      "cell_type": "markdown",
      "source": [
        "#### Oppgave 4 - Utvidet datasett\n",
        "Vi ønsker å slå sammen de to datasettet slik at vi kan gjøre analyse på tvers disse senere.\n",
        "\n",
        "Når vi slår sammen data gjør vi en *transformasjon* på datasettet, det vil si vi gjør noen endringer på datasettet for å øke kvaliteten for analyse.\n",
        "\n",
        "Det finnes flere verktøy man kan benytte for dette, i denne workshopen bruker vil notebook-verktøyet Google Colab.\n",
        "\n",
        "💡 **NB! Det fungerer ikke så bra å redigere og/eller kjøre kode i Colab samtidig med andre brukere. Det er derfor viktig at du jobber i din egen notebook, og ikke i denne hvor oppgavene står.**\n",
        "\n",
        "1. Opprett en Colab notebook. Du kan kalle denne hva du vil. Eventuelt kan du lage en kopi av denne notebooken.\n",
        "2. Koble deg til BigQuery:\n",
        "(Kopier kodesnuttene under inn i din notebook).\n",
        "  - Først må du autentisere deg (med din Bekk Google bruker som har tilgang til BigQuery)\n"
      ],
      "metadata": {
        "id": "s9nSGug2NrRS"
      }
    },
    {
      "cell_type": "code",
      "source": [
        "# Authenticate your Google Account\n",
        "# Doing so means you have access to various\n",
        "# resources connected to your account, such\n",
        "# as BigQuery tables, Storage buckets etc.\n",
        "from google.colab import auth\n",
        "auth.authenticate_user()"
      ],
      "metadata": {
        "id": "eqEVQIJsT7K1"
      },
      "execution_count": null,
      "outputs": []
    },
    {
      "cell_type": "markdown",
      "source": [
        "\n",
        "3.  Når du er autentisert, laster du inn bysykkel datasettet og værdatasettet til gruppen din inn i notebooken deres. Datasettene blir lastet inn som dataframes ( les mer om Dataframes her https://pandas.pydata.org/docs/reference/api/pandas.DataFrame.html). Du kan kalle dataframesene dine henholdsvis `df_bysykkel` og `df_weather`.\n",
        "\n",
        "<details><summary>🚨 Løsningsforslag</summary>\n",
        "\n",
        "Husk å kjøre kodesnutten med importene og hjelpefunksjonen før du kjører løsningsforslaget under:\n",
        "\n",
        "```# Løsning \n",
        "df = load_bigquery_data(\"data-intro\", \"bysykkel_main\", \"bysykkel_[DITT_GRUPPENAVN]\")\n",
        "df.head()\n",
        "```\n",
        "```\n",
        "df_weather = load_bigquery_data(\"data-intro\", \"bysykkel_main\", \"værdata_joakim\")\n",
        "df_weather.head()\n",
        "```\n",
        "\n",
        "</details>\n"
      ],
      "metadata": {
        "id": "jyJPs0v4T-35"
      }
    },
    {
      "cell_type": "code",
      "source": [
        "# HUSK Å KOPIER DENNE KODEBLOKKEN TIL NOTEBOOKEN DIN, OG KJØR DEN FOR Å FÅ TILGANG TIL IMPORTENE OG HJELPEFUNKSJONEN\n",
        "# Importer eksterne avhengigheter\n",
        "from google.cloud import bigquery_storage, bigquery\n",
        "from google.cloud.bigquery_storage import types\n",
        "from google.cloud.bigquery_storage_v1 import enums\n",
        "import pandas\n",
        "\n",
        "# Input:\n",
        "#   project_id: string\n",
        "#   dataset_id: string\n",
        "#     table_id: string\n",
        "# \n",
        "# Output:\n",
        "#   dataframe: pandas dataframe\n",
        "#\n",
        "\n",
        "# Hjelpemetode for å laste inn datasettet ditt. Du kan bruke denne for å laste inn datasettene dine\n",
        "def load_bigquery_data(project_id, dataset_id, table_id):\n",
        "    bqstorageclient = bigquery_storage.BigQueryReadClient()\n",
        "    table = f\"projects/{project_id}/datasets/{dataset_id}/tables/{table_id}\"\n",
        "    parent = \"projects/{}\".format(project_id)\n",
        "\n",
        "    # Opprett en read-session mot en tabell i BigQuery\n",
        "    requested_session = types.ReadSession(\n",
        "        table=table,\n",
        "        data_format = enums.DataFormat.ARROW\n",
        "    )\n",
        "    read_session = bqstorageclient.create_read_session(\n",
        "        parent=parent,\n",
        "        read_session=requested_session,\n",
        "        max_stream_count=1,\n",
        "    )\n",
        "\n",
        "    # Les data fra BigQuery, putt i en liste med \"frames\"\n",
        "    # og kombinér til én enkelt Pandas DataFrame\n",
        "    stream = read_session.streams[0]\n",
        "    reader = bqstorageclient.read_rows(stream.name)\n",
        "    frames = []\n",
        "    for message in reader.rows(read_session).pages:\n",
        "        frames.append(message.to_dataframe())\n",
        "    dataframe = pandas.concat(frames)\n",
        "\n",
        "    return dataframe"
      ],
      "metadata": {
        "id": "AXXkkVCBUDEg"
      },
      "execution_count": null,
      "outputs": []
    },
    {
      "cell_type": "markdown",
      "source": [
        "3. Vi må finne en kolonne med fellesdata for å kunne slå de sammen (joine) tabellene. Så du noen fellesnevnere da du undersøkte innholdet i tabellene?\n",
        "\n",
        "4. Et alternativ er å slå sammen tabellene basert på dato. Værdata har en entry per rad basert på dato. På bysykkel datasettet har vi flere kolonner som inneholder dato, så her må vi velge en. Valget avhenger av hva vi ønsker å analysere. Dette datasettet er ikke så omfattende, så i vårt eksempel velger vi å joine på turens starttidspunkt (`started_at`).\n",
        "\n",
        "- Slå sammen tabellene ved å bruke `started_at` i bysykkeldatasettet og `date` i værdatasettet.\n",
        "\n",
        "  - 💡  **Tips:** [`merge`](https://pandas.pydata.org/docs/reference/api/pandas.merge.html) funksjonen i pandas kan hjelpe deg med å slå sammen datasett.\n",
        "\n",
        "\n",
        "<details><summary>🚨 Løsningsforslag</summary>\n",
        "Vi kan slå sammen datasett ved å bruke `merge`, og fortelle funksjonen hvilke kolonner som skal slås sammen, samt hvilken type join vi ønsker (f.eks left, right, outer etc.)\n",
        "\n",
        "```\n",
        "  df_2 = pandas.merge(df, df_weather, on=['started_at', 'date'], how='left') \n",
        "```\n",
        "\n",
        "</details>\n",
        "\n",
        "   \n",
        "Støtte du på en utfordring og fikk en feilmelding her? Hvorfor fungerer ikke dette?\n",
        "\n",
        "<details><summary>🚨 Løsningsforslag</summary>\n",
        "\n",
        "Ta en kikk på innholdet i disse to kolonnene. Ser det ut som de er det samme i de ulike tabellene? Her må vi gjøre mer transformasjon før vi kan fortsette!\n",
        "\n",
        "</details>\n",
        "\n",
        "\n",
        "\n",
        "\n"
      ],
      "metadata": {
        "id": "ZFxke3DCTkmT"
      }
    },
    {
      "cell_type": "markdown",
      "source": [
        "### Oppgave 5 - Utvidet datasett 2\n",
        "Transformasjoner er en stor og viktig del når vi jobber med data. Ofte er datasettene vi har til rådighet ikke på det formatet vi ønsker å ha det på. Å transformere data betyr å gjøre endringer (f.eks slå sammen datasett, endre på datatyper, fjerne duplikater, gjøre utregninger med basis i andre kolonner, eller fjerne potensielle \"outliers\" som kan ødelegge grunnlaget vårt for analyse)\n",
        "\n",
        "> 🧼 Dette kalles ofte for å vaske data.\n",
        "\n",
        "Vi må få datokolonnene til å være på samme format. En måte vi kan gjøre dette på er å kun bruke dato delen av `started_at`. Ulempen med dette er at vi da mister informasjon vi kanskje ønsker å bruke videre i analyse/innsiktsdelen, i dette tilfellet ville vi mistet klokkeslettet. \n",
        "\n",
        "Vi løser dette problemet med å lage en hjelpekolonne, altså en ny midlertidg kolonne som kun brukes når vi slår sammen datasettene\n",
        "\n",
        "1. Lag en ny kolonne, `trip_date`, som kun inneholder datoen fra kolonnen `started_at`.\n",
        "\n",
        "**💡 Tips**: Pandas har en funksjon [`to_datetime`](https://pandas.pydata.org/docs/reference/api/pandas.to_datetime.html) som lar deg tilpasse tidspunkter\n",
        "\n",
        "<details><summary>🚨 Løsningsforslag</summary>\n",
        "\n",
        "```\n",
        "df[\"trip_date\"] = pandas.to_datetime(df[\"started_at\"]).dt.strftime(\"%Y-%m-%d\") \n",
        "df.head()\n",
        "\n",
        "```\n",
        "\n",
        "</details>\n",
        "\n",
        "\n",
        "\n",
        "2. Fungerer det å merge nå? \n",
        "  - Mest sannsynlig ikke. Hvorfor ikke? \n",
        "\n",
        "<details>\n",
        "<summary>🚨 Løsningsforslag</summary>  \n",
        "Sjekk datatypene i begge dataframene. Kall `d_types` (https://pandas.pydata.org/docs/reference/api/pandas.DataFrame.dtypes.html). Her får du opp hvilke datatyper kolonnene er (det kan være strings, integers, objects ++) Mest sannsynlig består nå kolonnene av object-typer.\n",
        "\n",
        "</details>\n",
        "\n",
        "3. For å fortsette må kolonnene ha samme datatype for å kunne slås sammen. Gjør om `trip_date` i bysykkeldatasettet og `date` i værdatasettet til datetime typer.\n",
        "\n",
        "<details>\n",
        "<summary>🚨 Løsningsforslag</summary>  \n",
        "```python\n",
        "df[\"trip_date\"] = pandas.to_datetime(df[\"trip_date\"])\n",
        "df_weather[\"date\"] = pandas.to_datetime(df_weather[\"date\"])```\n",
        "\n",
        "</details>\n",
        "\n",
        "4. Merge datasettet\n",
        "\n",
        "<details>\n",
        "<summary>🚨 Løsningsforslag</summary>  \n",
        "```\n",
        "df_merged = df.merge(df_weather, left_on='trip_date', right_on='date', how='left')\n",
        "df_merged.head()```\n",
        "\n",
        "</details>\n",
        "\n",
        "5. Kjør `d_types`. Værdata-kolonnene ser ikke ut til å være av typen tall. Endre datatypen på denne slik at det blir desimaltall\n",
        "\n",
        "<details>\n",
        "<summary>🚨 Løsningsforslag</summary>  \n",
        "Kolonnen ser tilsynelatende ut til å kun bestå av tall. Hvis vi inspiserer verdiene, ser vi at noen ganger forekommer strengen \"NULL\". Vi må rydde opp i disse før vi kan endre datatypen til float. Vi kan bruke `replace` for dette.\n",
        "\n",
        "```\n",
        "df_merged[\"mean_temperature\"] = df_merged[\"mean_temperature\"].replace('NULL',0).astype('float')\n",
        "df_merged[\"precipitation_amount\"] = df_merged[\"precipitation_amount\"].replace('NULL',0).astype('float')\n",
        "\n",
        "```\n",
        "\n",
        "</details>\n",
        "\n",
        "6. Rydd opp i dataframen ved å fjerne  hjelpekolonnen\n",
        "\n",
        "<details>\n",
        "<summary>🚨 Løsningsforslag</summary>  \n",
        "```\n",
        "df_merged = df_merged.drop(columns=\"date\")\n",
        "df_merged.head()\n",
        "```\n",
        "\n",
        "</details>\n",
        "\n",
        "Vi har nå et utvidet datasett! 🎉🥂🎊\n",
        "\n",
        "\n",
        "Vanligvis ville vi ha skrevet datasettet tilbake til BigQuery, men det gjør vi ikke i denne workshopen. (Det tok lang tid, vi har mye data😴) \n",
        "\n",
        "Pandas har en ganske snedig funksjon som kan gjøre dette!\n",
        "\n",
        "```df_merged.to_gbq(\"bysykkel_main.bysykkel_med_værdata\", project_id=\"data-intro\")```\n",
        "\n",
        "Når vi skriver til BigQuery, vil datatypene i dataframen følge med og sette riktig skjema i BigQuery\n"
      ],
      "metadata": {
        "id": "vUZMf3ycUY7D"
      }
    }
  ]
}