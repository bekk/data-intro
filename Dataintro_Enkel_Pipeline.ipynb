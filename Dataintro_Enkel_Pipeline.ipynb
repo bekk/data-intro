{
  "nbformat": 4,
  "nbformat_minor": 0,
  "metadata": {
    "colab": {
      "name": "Dataintro Enkel Pipeline.ipynb",
      "provenance": [],
      "collapsed_sections": [],
      "toc_visible": true
    },
    "kernelspec": {
      "name": "python3",
      "display_name": "Python 3"
    },
    "language_info": {
      "name": "python"
    }
  },
  "cells": [
    {
      "cell_type": "markdown",
      "source": [
        "# Workshop: Introduksjon til dataflyt og transformasjon\n",
        "\n",
        "**Du vil lære:**\n",
        "- Helt overordnet hva dataflyt og transformasjon er, hva det innebærer og hvordan det utføres i praksis\n",
        "- Litt om Google Cloud Storage og Google BigQuery\n",
        "- Å laste inn, hente ut og jobbe med data fra Google BigQuery\n",
        "- Gjøre enkle transformasjoner ved hjelp av datamanipuleringsverktøy\n",
        "- Lage et nytt og rikere datasett med data fra flere kilder \n",
        "\n",
        "**Du vil _ikke_ lære:**\n",
        "- Hvordan man setter opp en faktisk dataflyt eller lignende i Google Cloud Platform\n",
        "- Spesifikke detaljer om verktøy som Google Cloud Platform (GCP), Pandas, Matplotlib, Keras, Tensorflow og liknende\n",
        "\n",
        "\n",
        "💡 Oppgave 1-4 er utforskende i GCP og kan timeboxes til ca. 10 minutter."
      ],
      "metadata": {
        "id": "raflZ3eh1f4w"
      }
    },
    {
      "cell_type": "markdown",
      "source": [
        "\n",
        "# Relevante GCP-komponenter for workshopen\n",
        "## Google Cloud Storage\n",
        "\n",
        "Google Cloud Storage (GCS) er rett og slett et filområde hvor vi kan lagre filer på ulike formater, med både strukturerte og ustrukturerte data. GCS er et fint landingspunkt for data, slik at du kan jobbe uavhengig av systemene dataene stammer fra (f.eks eksterne APIer). \n",
        "\n",
        "\n",
        "Vi bruker ofte begrepet \"storage bucket\" for en logisk oppdeling av et filområde (noe tilsvarende som en filmappe på din maskin).\n",
        "\n",
        "Data i en storage bucket er som regel ikke klargjort for analyseformål. Vi ønsker derfor å prosessere og flytte den til et annet verktøy. Et slikt verktøy kan være Google BigQuery, som er en database tilpasset analyse. Dette kan videre kobles opp mot visualiserings- og modelleringsverktøy som Colab-notebooks.\n",
        "\n",
        "## Google BigQuery\n",
        "\n",
        "BigQuery er en SQL-basert database som er optimalisert for analyse. I motsetning til tradisjonelle SQL-databaser er BigQuery kolonnebasert istedenfor radbasert. Dette gjør den optimalisert til å regne ut aggregerte tall. BigQuery takler tabeller med et høyt antall kolonner svært godt."
      ],
      "metadata": {
        "id": "DPfwNsUoPddk"
      }
    },
    {
      "cell_type": "markdown",
      "source": [
        "\n",
        "# Oppgaver\n",
        "\n",
        "\n"
      ],
      "metadata": {
        "id": "wQ3gSFzt9Dnz"
      }
    },
    {
      "cell_type": "markdown",
      "source": [
        "## Oppgave 1: Bli kjent med Google Cloud Storage (GCS)\n",
        "\n",
        "Gå til [Google Cloud Console](https://console.cloud.google.com), logg inn med din epost og velg prosjekt \"data-intro\" oppe i venstre hjørne.\n",
        "\n",
        "I Google Cloud Console (GUI) for prosjektet (data-intro), finn Google Cloud Storage. Du kan enten finne GCS via menyen eller søke etter den i søkefeltet. \n",
        "\n",
        "I prosjektet finner du en bucket med to ulike datasett. Hva finner du ut om disse datasettene (metadata)?\n",
        "\n",
        "a) Hvilken filtype er de?\n",
        "  \n",
        "  \n",
        "b) Hvor store er filene?\n",
        "  "
      ],
      "metadata": {
        "id": "ydTsudgDBZMF"
      }
    },
    {
      "cell_type": "code",
      "source": [
        "# Svar a:\n",
        "# Svar b:"
      ],
      "metadata": {
        "id": "jTiSwTo9_ffb"
      },
      "execution_count": null,
      "outputs": []
    },
    {
      "cell_type": "markdown",
      "source": [
        "## Oppgave 2: Importer dataen til BigQuery\n",
        "\n",
        "For å se nærmere på innholdet i datasettene ønsker vi å flytte de til BigQuery. Gjør følgende i [Google Cloud Console](https://console.cloud.google.com):\n",
        "\n",
        "1. Finn BigQuery i menyen\n",
        "2. Velg BigQuery-prosjektet \"Data intro\" og deretter marker datasettet bysykkel_main\n",
        "3. I menylinjen oppe til høyre, velg \"Create table\". \n",
        "4. Under \"Source\" kan du velge datakilden din. Vi ønsker å velge bysykkeldatasettet fra Storage Bucket. Filformatet fant du i oppgave 1. \n",
        "5. Under \"Destination\" kan du kalle den nye tabellen din `bysykkel_(gruppenavn)`. \n",
        "6. La BigQuery definere skjema for deg, og behold ellers standard innstillingene.\n",
        "7. Trykk på \"Create Table\" \n",
        "\n",
        "Datasettet er nå lastet inn i BigQuery."
      ],
      "metadata": {
        "id": "9tCc63aZWUgl"
      }
    },
    {
      "cell_type": "markdown",
      "source": [
        "## Oppgave 3: Bli kjent med datasettet\n",
        "\n",
        "Når vi markerer tabellen i BigQuery som vi laget i forrige oppgave ser vi en rekke metadata, samt en preview-funksjon for å undersøke radene i datasettet vårt.\n",
        "\n",
        "Hva finner du ut om skjema (datatypene) og innholdet?"
      ],
      "metadata": {
        "id": "be4ImxshDMwB"
      }
    },
    {
      "cell_type": "markdown",
      "source": [
        "\n",
        "\n",
        "\n",
        "## Oppgave 4: Værdata!\n",
        "Vi har allerede lastet inn værdatasettet inn i BigQuery (`værdata_oslo`).\n",
        "Hva finner du ut om skjema (datatypene) og innholdet for dette datasettet?\n",
        "\n"
      ],
      "metadata": {
        "id": "cI5dylecWZnY"
      }
    },
    {
      "cell_type": "markdown",
      "source": [
        "## Oppgave 5: Lage et utvidet datasett\n",
        "Vi ønsker å slå sammen de to datasettene slik at vi kan gjøre analyse på tvers av disse. \n",
        "\n",
        "💡 **NB! Du må jobbe i din egen notebook-kopi om du ikke allerede har gjort det. Se avsnittet \"Hvordan komme i gang\" på Github for detaljer**\n",
        "\n",
        "1. Koble deg til BigQuery. Først må du autentisere deg (med din Bekk Google bruker som har tilgang til BigQuery). Kjør kodesnutten under for å gjøre dette.\n"
      ],
      "metadata": {
        "id": "s9nSGug2NrRS"
      }
    },
    {
      "cell_type": "code",
      "source": [
        "# Authenticate your Google Account\n",
        "# Doing so means you have access to various\n",
        "# resources connected to your account, such\n",
        "# as BigQuery tables, Storage buckets etc.\n",
        "from google.colab import auth\n",
        "auth.authenticate_user()"
      ],
      "metadata": {
        "id": "eqEVQIJsT7K1"
      },
      "execution_count": null,
      "outputs": []
    },
    {
      "cell_type": "markdown",
      "source": [
        "Under har vi en hjelpemetode for å laste inn datasettene dine fra BigQuery. Kjør denne kodesnutten også. "
      ],
      "metadata": {
        "id": "CSvHGiNTegzl"
      }
    },
    {
      "cell_type": "code",
      "source": [
        "# Eksterne avhengigheter\n",
        "from google.cloud import bigquery_storage\n",
        "from google.cloud.bigquery_storage import types\n",
        "from google.cloud.bigquery_storage_v1 import enums\n",
        "import pandas\n",
        "\n",
        "#  params:\n",
        "#   project_id: String\n",
        "#   dataset_id: String\n",
        "#     table_id: String\n",
        "# \n",
        "#  return:\n",
        "#           df: Pandas DataFrame\n",
        "#\n",
        "def load_bigquery_data(project_id, dataset_id, table_id):\n",
        "    # Parse input-verdier til forventet filsti på Google BigQuery\n",
        "    table = f\"projects/{project_id}/datasets/{dataset_id}/tables/{table_id}\"\n",
        "    parent = \"projects/{}\".format(project_id)\n",
        "\n",
        "    # Instansier klient for enkel integrasjon mot BigQuery\n",
        "    bqstorageclient = bigquery_storage.BigQueryReadClient()\n",
        "\n",
        "    # Opprett en read-session mot en tabell i BigQuery\n",
        "    requested_session = types.ReadSession(\n",
        "        table=table,\n",
        "        data_format = enums.DataFormat.ARROW\n",
        "    )\n",
        "    read_session = bqstorageclient.create_read_session(\n",
        "        parent=parent,\n",
        "        read_session=requested_session,\n",
        "        max_stream_count=1,\n",
        "    )\n",
        "\n",
        "    # Les data fra BigQuery, putt i en liste med dataframes\n",
        "    stream = read_session.streams[0]\n",
        "    readRowsStream = bqstorageclient.read_rows(stream.name)\n",
        "    dfs = []\n",
        "    for page in readRowsStream.rows(read_session).pages:\n",
        "        dfs.append(page.to_dataframe())\n",
        "\n",
        "    # Sett flere dataframes sammen til én\n",
        "    df = pandas.concat(dfs)\n",
        "\n",
        "    return df"
      ],
      "metadata": {
        "id": "AXXkkVCBUDEg"
      },
      "execution_count": null,
      "outputs": []
    },
    {
      "cell_type": "markdown",
      "source": [
        "2.  Når du er autentisert, laster du inn bysykkel-datasettet til gruppen din, samt værdatasettet inn i notebooken. Datasettene blir lastet inn som dataframes (som du kan lese mer om [her](https://pandas.pydata.org/docs/reference/api/pandas.DataFrame.html)). \n",
        "\n",
        "Vi kaller dataframesene henholdsvis `df_bysykkel` og `df_weather`.\n",
        "\n",
        "Kjør kodelinjene under og undersøk innholdet."
      ],
      "metadata": {
        "id": "jyJPs0v4T-35"
      }
    },
    {
      "cell_type": "code",
      "source": [
        "## Husk å bytte ut med gruppen din sitt bysykkeldatasett\n",
        "df_bysykkel = load_bigquery_data(\"data-intro\", \"bysykkel_main\", \"bysykkel_[DITT_GRUPPENAVN]\")\n",
        "df_bysykkel.head()\n"
      ],
      "metadata": {
        "id": "DeeAWcm_Iyu8"
      },
      "execution_count": null,
      "outputs": []
    },
    {
      "cell_type": "code",
      "source": [
        "df_weather = load_bigquery_data(\"data-intro\", \"bysykkel_main\", \"værdata_oslo\")\n",
        "df_weather.head()"
      ],
      "metadata": {
        "id": "wJPseSt0YIzt"
      },
      "execution_count": null,
      "outputs": []
    },
    {
      "cell_type": "markdown",
      "source": [
        "3. Vi må finne en kolonne med fellesdata for å kunne slå sammen tabellene. Så du noen fellesnevnere da du undersøkte innholdet i tabellene?"
      ],
      "metadata": {
        "id": "ayDXtr1wJJfv"
      }
    },
    {
      "cell_type": "code",
      "source": [
        "## DITT SVAR HER"
      ],
      "metadata": {
        "id": "CcnsieJ1Jq0k"
      },
      "execution_count": null,
      "outputs": []
    },
    {
      "cell_type": "markdown",
      "source": [
        "4. Et alternativ er å slå sammen tabellene basert på dato. Værdatasettet har en gjennomsnittstemperatur og en gjennomsnittsnedbørsmengde for hver dato. På bysykkeldatasettet har vi flere kolonner som inneholder dato, så her må vi velge en. Valget avhenger av hva vi ønsker å analysere. Dette datasettet er ikke så omfattende, så i vårt eksempel velger vi å slå sammen på turens starttidspunkt (`started_at`).\n",
        "\n",
        "  Vi forsøker å slå sammen tabellene ved å bruke `started_at` i bysykkeldatasettet og `date` i værdatasettet. [`merge`](https://pandas.pydata.org/docs/reference/api/pandas.merge.html)-funksjonen i pandas kan hjelpe oss.\n",
        "\n",
        "  Kjør kodelinjen under. Støtte du på noen utfordringer? Hvorfor fungerer ikke dette?"
      ],
      "metadata": {
        "id": "Q_TKKnykJtzg"
      }
    },
    {
      "cell_type": "code",
      "source": [
        "\n",
        "df_merged = pandas.merge(df_bysykkel, df_weather, left_on='started_at', right_on='date', how='left') \n"
      ],
      "metadata": {
        "id": "Oe9xW2LWwPjO"
      },
      "execution_count": null,
      "outputs": []
    },
    {
      "cell_type": "markdown",
      "source": [
        "\n",
        "<details><summary>🚨 Løsningsforslag</summary>\n",
        "\n",
        "Ta en kikk på innholdet i disse to kolonnene. Ser det ut som datoformatet er det samme i de ulike tabellene? Her må vi gjøre mer transformasjon før vi kan fortsette!\n",
        "\n",
        "</details>\n"
      ],
      "metadata": {
        "id": "vm8wD4UTKMsj"
      }
    },
    {
      "cell_type": "markdown",
      "source": [
        "## Oppgave 6: Rydde opp i datasettene\n",
        "Transformasjoner er en stor og viktig prosess når vi jobber med data. Ofte er datasettene vi har til rådighet ikke på det formatet vi ønsker å ha de på. Å transformere data betyr å gjøre endringer, f.eks:\n",
        "- slå sammen datasett\n",
        "- endre på datatyper \n",
        "- fjerne duplikater \n",
        "- gjøre utregninger med basis i andre kolonner\n",
        "- fjerne potensielle \"outliers\" som kan ødelegge grunnlaget vårt for analyse\n",
        "\n",
        "> 🧼 Prosessen over kalles ofte for å \"vaske\" data.\n",
        "\n",
        "Vi må få datokolonnene til å være på samme format. En måte vi kan gjøre dette på er å fjerne klokkeslettet og kun bruke datodelen av `started_at`. Ulempen med dette er at vi da mister informasjon vi kanskje ønsker å bruke videre i analyse/innsiktsdelen. \n",
        "\n",
        "Vi løser dette problemet med å lage en hjelpekolonne, altså en ny midlertidg kolonne som kun brukes når vi slår sammen datasettene\n",
        "\n",
        "1. Lag en ny kolonne i `df_bysykkel`, `trip_date`, som kun inneholder datoen fra kolonnen `started_at`.\n",
        "\n",
        "**💡 Tips**: Pandas har en funksjon [`to_datetime`](https://pandas.pydata.org/docs/reference/api/pandas.to_datetime.html) som lar deg tilpasse tidspunkter\n",
        "\n"
      ],
      "metadata": {
        "id": "wJB6gAMbwtfw"
      }
    },
    {
      "cell_type": "code",
      "source": [
        "### DIN KODE HER\n",
        "##\n",
        "##"
      ],
      "metadata": {
        "id": "8YSrupR_w0x3"
      },
      "execution_count": null,
      "outputs": []
    },
    {
      "cell_type": "markdown",
      "source": [
        "<details><summary>🚨 Løsningsforslag</summary>\n",
        "\n",
        "```\n",
        "df_bysykkel[\"trip_date\"] = pandas.to_datetime(df_bysykkel[\"started_at\"]).dt.strftime(\"%Y-%m-%d\") \n",
        "df_bysykkel.head()\n",
        "\n",
        "```\n",
        "\n",
        "</details>"
      ],
      "metadata": {
        "id": "RNdR-8VuM1Km"
      }
    },
    {
      "cell_type": "markdown",
      "source": [
        "2. Forsøk å merge på nytt ved å bruke hjelpekolonnen `trip_date` ved å kjøre kodelinjen under. Fungerer det å slå sammen nå? Hvordan ser datasettet ut?"
      ],
      "metadata": {
        "id": "fnxmSPiGN4b9"
      }
    },
    {
      "cell_type": "code",
      "source": [
        "df_merged = pandas.merge(df_bysykkel, df_weather, left_on='trip_date', right_on='date', how='left') \n",
        "df_merged.head()"
      ],
      "metadata": {
        "id": "O1AaLoZ9NzjD"
      },
      "execution_count": null,
      "outputs": []
    },
    {
      "cell_type": "markdown",
      "source": [
        "\n",
        "<details>\n",
        "<summary>🚨 Løsningsforslag</summary>  \n",
        "Det vil i prinsippet fungere, men det er likevel ikke riktig fordi kolonnene har ulike datatyper. Du kan sjekke hvilke datatyper dataframen din inneholder ved å bruke pandas \"dtypes\", f.eks df_bysykkel.dtypes\n",
        "\n",
        "Du kan lese mer om funksjonen dtypes [her](https://pandas.pydata.org/docs/reference/api/pandas.DataFrame.dtypes.html)\n",
        "\n",
        "</details>\n",
        "\n"
      ],
      "metadata": {
        "id": "TcXCs_CZw3qp"
      }
    },
    {
      "cell_type": "markdown",
      "source": [
        "3. Gjør nødvendige endringer i kolonnen `trip_date` i bysykkeldatasettet og `date` i værdatasettet for å kunne slå sammen.\n"
      ],
      "metadata": {
        "id": "E-QdbA1COWN_"
      }
    },
    {
      "cell_type": "code",
      "source": [
        "## DIN KODE HER\n",
        "##\n",
        "##\n",
        "##"
      ],
      "metadata": {
        "id": "lR-0dx0cxB6_"
      },
      "execution_count": null,
      "outputs": []
    },
    {
      "cell_type": "markdown",
      "source": [
        "\n",
        "<details><summary>🚨 Løsningsforslag</summary>\n",
        "Vi setter begge kolonnen til å være av type datetime (datotid).\n",
        "\n",
        "```\n",
        "df_bysykkel[\"trip_date\"] = pandas.to_datetime(df_bysykkel[\"trip_date\"])\n",
        "df_weather[\"date\"] = pandas.to_datetime(df_weather[\"date\"])\n",
        "\n",
        "```\n",
        "\n",
        "</details>"
      ],
      "metadata": {
        "id": "ds7-9lC5OwUG"
      }
    },
    {
      "cell_type": "markdown",
      "source": [
        "4. Nå skal det fungere å slå sammen datasettene! 🎉 \n",
        "\n",
        " Vi ønsker å supplere hver rad av bysykkeldatasettet med værdata fra den aktuelle dagen. Skriv kode under som oppnår dette. \n",
        " Rekkefølgen og type join (left, right, outer etc) har noe å si når datasettene slås sammen.  \n",
        "\n",
        "\n"
      ],
      "metadata": {
        "id": "vy9wVOCGyB_-"
      }
    },
    {
      "cell_type": "code",
      "source": [
        "## DIN KODE HER\n",
        "##\n",
        "##\n",
        "##"
      ],
      "metadata": {
        "id": "30ZZiRcWyGdK"
      },
      "execution_count": null,
      "outputs": []
    },
    {
      "cell_type": "markdown",
      "source": [
        "\n",
        "<details>\n",
        "<summary>🚨 Løsningsforslag</summary>  \n",
        "\n",
        "```\n",
        "df_merged = df_bysykkel.merge(df_weather, left_on='trip_date', right_on='date', how='left')\n",
        "df_merged.head()\n",
        "\n",
        "```\n",
        "\n",
        "</details>"
      ],
      "metadata": {
        "id": "Ciq0pB9aTUlH"
      }
    },
    {
      "cell_type": "markdown",
      "source": [
        "\n",
        "5. Kjør `dtypes` igjen. Værdata-kolonnene ser ikke ut til å være av typen tall, men string. Det vil ikke fungere å gjøre aggregeringer på strings. Hvorfor fungerer det ikke å gjøre om kolonnen direkte?"
      ],
      "metadata": {
        "id": "vPrY9Nj9yLdm"
      }
    },
    {
      "cell_type": "code",
      "source": [
        "df_merged[\"mean_temperature\"] = df_merged[\"mean_temperature\"].astype('float')\n",
        "df_merged[\"precipitation_amount\"] = df_merged[\"precipitation_amount\"].astype('float')"
      ],
      "metadata": {
        "id": "Y6lQfo3LUYn0"
      },
      "execution_count": null,
      "outputs": []
    },
    {
      "cell_type": "markdown",
      "source": [
        "<details>\n",
        "<summary>🚨 Løsningsforslag</summary>\n",
        "\n",
        "Kolonnen ser tilsynelatende ut til å kun bestå av tall. Hvis vi derimot inspiserer verdiene nærmere, ser vi at noen ganger forekommer strengen \"NULL\" som ikke er et tall. Pandas får derfor ikke til å gjøre om datatypen før vi gjør noe med dette.\n",
        "\n",
        "</details>\n"
      ],
      "metadata": {
        "id": "V78SM-k7UZ5Z"
      }
    },
    {
      "cell_type": "markdown",
      "source": [
        "6. Endre datatypen på nedbørskolonnen og temperaturkolonnen slik at det blir desimaltall."
      ],
      "metadata": {
        "id": "4sbgPwHLZgvJ"
      }
    },
    {
      "cell_type": "code",
      "source": [
        "## DIN KODE HER\n",
        "##\n",
        "##"
      ],
      "metadata": {
        "id": "m0GmJP7GYv9b"
      },
      "execution_count": null,
      "outputs": []
    },
    {
      "cell_type": "markdown",
      "source": [
        "<details>\n",
        "<summary>🚨 Løsningsforslag</summary>\n",
        "\n",
        "Vi må rydde opp i disse kolonnene ved å fjerne strengene 'NULL' før vi kan endre datatypen til float. Vi kan bruke `replace` funksjonen til en dataframe.\n",
        "\n",
        "Vi kunne gjort om NULL til 0, men dette ville fått betydning for statistiske verdier som gjennomsnitt. Vi velger derfor å sette verdien \"blank\", som heter \"None\" i Python.\n",
        "\n",
        "```\n",
        "df_merged[\"mean_temperature\"] = df_merged[\"mean_temperature\"].replace('NULL',None).astype('float')\n",
        "df_merged[\"precipitation_amount\"] = df_merged[\"precipitation_amount\"].replace('NULL',None).astype('float')\n",
        "\n",
        "```\n",
        "</details>"
      ],
      "metadata": {
        "id": "OoBYPUz_aCFF"
      }
    },
    {
      "cell_type": "markdown",
      "source": [
        "\n",
        "7. Til slutt: Rydd opp ved å fjerne hjelpekolonnen fra `df_merged`\n"
      ],
      "metadata": {
        "id": "sk8NH-K9Uo6-"
      }
    },
    {
      "cell_type": "code",
      "source": [
        "## DIN KODE HER\n",
        "##\n",
        "##\n",
        "##"
      ],
      "metadata": {
        "id": "GpdDnOQoyPbq"
      },
      "execution_count": null,
      "outputs": []
    },
    {
      "cell_type": "markdown",
      "source": [
        "\n",
        "<details>\n",
        "<summary>🚨 Løsningsforslag</summary> \n",
        "\n",
        "```\n",
        "df_merged = df_merged.drop(columns=\"trip_date\")\n",
        "df_merged.head()\n",
        "\n",
        "```\n",
        "\n",
        "</details>"
      ],
      "metadata": {
        "id": "-DNOuBMqW-Kj"
      }
    },
    {
      "cell_type": "markdown",
      "source": [
        "\n",
        "\n",
        "Vi har nå et utvidet datasett! 🎉🥂🎊\n",
        "\n",
        "\n",
        "Vanligvis ville vi ha skrevet datasettet tilbake til BigQuery, men det gjør vi ikke i denne workshopen. (Det tok lang tid, vi har mye data😴) \n",
        "\n",
        "Pandas har en ganske snedig funksjon som kan gjøre dette!\n",
        "\n",
        "```df_merged.to_gbq(\"bysykkel_main.bysykkel_med_værdata\", project_id=\"data-intro\")```\n",
        "\n",
        "Når vi skriver til BigQuery, vil datatypene i dataframen følge med og sette riktig skjema i BigQuery\n"
      ],
      "metadata": {
        "id": "vUZMf3ycUY7D"
      }
    }
  ]
}